{
 "cells": [
  {
   "cell_type": "markdown",
   "metadata": {},
   "source": [
    "![image info](https://raw.githubusercontent.com/albahnsen/MIAD_ML_and_NLP/main/images/banner_1.png)"
   ]
  },
  {
   "cell_type": "markdown",
   "metadata": {},
   "source": [
    "# Taller: Tokenización de textos  \n",
    "\n",
    "En este taller podrán poner en práctica sus conocimientos sobre preprocesamiento de texto (tokenización). El taller está constituido por 5 puntos, en los cuales deberan seguir las intrucciones de cada numeral para su desarrollo."
   ]
  },
  {
   "cell_type": "markdown",
   "metadata": {},
   "source": [
    "## Datos detección de toxicidad en comentarios\n",
    "\n",
    "En este taller se usará el conjunto de datos de detección de toxicidad en comentarios de la base de datos de Kaggle. Cada observación es un comentario que tiene como variable objetivo (target) la probabilidad de ser un comentario tóxico. El objetivo es predecir la toxicidad de cada comentario. Para más detalles pueden visitar el siguiente enlace: [datos](https://www.kaggle.com/c/jigsaw-unintended-bias-in-toxicity-classification/data)."
   ]
  },
  {
   "cell_type": "code",
   "execution_count": 10,
   "metadata": {},
   "outputs": [],
   "source": [
    "import warnings\n",
    "warnings.filterwarnings('ignore')"
   ]
  },
  {
   "cell_type": "code",
   "execution_count": 27,
   "metadata": {},
   "outputs": [],
   "source": [
    "# Importación librerías\n",
    "import pandas as pd\n",
    "import numpy as np\n",
    "import scipy as sp\n",
    "from sklearn.model_selection import train_test_split, cross_val_score\n",
    "from sklearn.feature_extraction.text import CountVectorizer, TfidfVectorizer\n",
    "from sklearn.naive_bayes import MultinomialNB\n",
    "from sklearn import metrics\n",
    "from nltk.stem.snowball import SnowballStemmer\n",
    "from sklearn.naive_bayes import MultinomialNB\n",
    "from sklearn.linear_model import LinearRegression\n",
    "from sklearn.ensemble import GradientBoostingRegressor\n",
    "from sklearn.metrics import mean_squared_error\n",
    "%matplotlib inline"
   ]
  },
  {
   "cell_type": "code",
   "execution_count": 12,
   "metadata": {},
   "outputs": [
    {
     "data": {
      "text/html": [
       "<div>\n",
       "<style scoped>\n",
       "    .dataframe tbody tr th:only-of-type {\n",
       "        vertical-align: middle;\n",
       "    }\n",
       "\n",
       "    .dataframe tbody tr th {\n",
       "        vertical-align: top;\n",
       "    }\n",
       "\n",
       "    .dataframe thead th {\n",
       "        text-align: right;\n",
       "    }\n",
       "</style>\n",
       "<table border=\"1\" class=\"dataframe\">\n",
       "  <thead>\n",
       "    <tr style=\"text-align: right;\">\n",
       "      <th></th>\n",
       "      <th>id</th>\n",
       "      <th>comment_text</th>\n",
       "      <th>target</th>\n",
       "    </tr>\n",
       "  </thead>\n",
       "  <tbody>\n",
       "    <tr>\n",
       "      <th>0</th>\n",
       "      <td>6101457</td>\n",
       "      <td>What are you talking about? What group do Pete...</td>\n",
       "      <td>0.0</td>\n",
       "    </tr>\n",
       "    <tr>\n",
       "      <th>1</th>\n",
       "      <td>5342103</td>\n",
       "      <td>NO!, Let him, we need a Conservative government.</td>\n",
       "      <td>0.0</td>\n",
       "    </tr>\n",
       "    <tr>\n",
       "      <th>2</th>\n",
       "      <td>743361</td>\n",
       "      <td>Perhaps he took the \"power out of the Cardinal...</td>\n",
       "      <td>0.2</td>\n",
       "    </tr>\n",
       "    <tr>\n",
       "      <th>3</th>\n",
       "      <td>551008</td>\n",
       "      <td>As always, yours is dripping with sarcasm, whi...</td>\n",
       "      <td>0.0</td>\n",
       "    </tr>\n",
       "    <tr>\n",
       "      <th>4</th>\n",
       "      <td>865998</td>\n",
       "      <td>The dirty little secret is that the price rang...</td>\n",
       "      <td>0.3</td>\n",
       "    </tr>\n",
       "  </tbody>\n",
       "</table>\n",
       "</div>"
      ],
      "text/plain": [
       "        id                                       comment_text  target\n",
       "0  6101457  What are you talking about? What group do Pete...     0.0\n",
       "1  5342103   NO!, Let him, we need a Conservative government.     0.0\n",
       "2   743361  Perhaps he took the \"power out of the Cardinal...     0.2\n",
       "3   551008  As always, yours is dripping with sarcasm, whi...     0.0\n",
       "4   865998  The dirty little secret is that the price rang...     0.3"
      ]
     },
     "execution_count": 12,
     "metadata": {},
     "output_type": "execute_result"
    }
   ],
   "source": [
    "# Carga de datos de archivos .csv\n",
    "df = pd.read_csv('https://raw.githubusercontent.com/albahnsen/MIAD_ML_and_NLP/main/datasets/Toxicity.zip')\n",
    "df = df[['id','comment_text', 'target']]\n",
    "df.head()"
   ]
  },
  {
   "cell_type": "code",
   "execution_count": 13,
   "metadata": {},
   "outputs": [
    {
     "data": {
      "text/plain": [
       "(541462, 3)"
      ]
     },
     "execution_count": 13,
     "metadata": {},
     "output_type": "execute_result"
    }
   ],
   "source": [
    "df.shape"
   ]
  },
  {
   "cell_type": "code",
   "execution_count": 14,
   "metadata": {},
   "outputs": [
    {
     "data": {
      "text/plain": [
       "<Axes: >"
      ]
     },
     "execution_count": 14,
     "metadata": {},
     "output_type": "execute_result"
    },
    {
     "data": {
      "image/png": "[encoded data removed]",
      "text/plain": [
       "<Figure size 640x480 with 1 Axes>"
      ]
     },
     "metadata": {},
     "output_type": "display_data"
    }
   ],
   "source": [
    "# Impresión histograma de variable de interés (y)\n",
    "df.target.hist()"
   ]
  },
  {
   "cell_type": "code",
   "execution_count": 15,
   "metadata": {},
   "outputs": [
    {
     "data": {
      "text/plain": [
       "count    541462.000000\n",
       "mean          0.102991\n",
       "std           0.196979\n",
       "min           0.000000\n",
       "25%           0.000000\n",
       "50%           0.000000\n",
       "75%           0.166667\n",
       "max           1.000000\n",
       "Name: target, dtype: float64"
      ]
     },
     "execution_count": 15,
     "metadata": {},
     "output_type": "execute_result"
    }
   ],
   "source": [
    "# Separación de variable de interés (y)\n",
    "y = df.target\n",
    "y.describe()"
   ]
  },
  {
   "cell_type": "code",
   "execution_count": 16,
   "metadata": {},
   "outputs": [],
   "source": [
    "# Separación de variables predictoras (X), solo se considera el texto de la noticia\n",
    "X = df.comment_text"
   ]
  },
  {
   "cell_type": "code",
   "execution_count": 17,
   "metadata": {},
   "outputs": [],
   "source": [
    "# Separación de datos en set de entrenamiento y test\n",
    "X_train, X_test, y_train, y_test = train_test_split(X, y, test_size=0.33, random_state=42)"
   ]
  },
  {
   "cell_type": "markdown",
   "metadata": {},
   "source": [
    "## Punto 1 - Tokenización con CountVectorizer\n",
    "\n",
    "En la celda 1 creen y entrenen el modelo de regresión de su preferencia, para que prediga la probabilidad de que un comentario sea tóxico, usando los set de entrenamiento y test definidos anteriormente. Usen la función **CountVectorizer** para preprocesar los comentarios y presenten el desempeño del modelo con la métrica del MSE.\n",
    "\n",
    "Recuerden que el preprocesamiento que se haga sobre los datos de entrenamiento  (*.fit_transform()*) deben ser aplicado al set de test (*.transform()*)."
   ]
  },
  {
   "cell_type": "code",
   "execution_count": 18,
   "metadata": {},
   "outputs": [],
   "source": [
    "# Celda 1\n",
    "vectorizer = CountVectorizer()\n",
    "X_train_counts = vectorizer.fit_transform(X_train)\n",
    "X_test_counts = vectorizer.transform(X_test)"
   ]
  },
  {
   "cell_type": "code",
   "execution_count": 28,
   "metadata": {},
   "outputs": [
    {
     "name": "stdout",
     "output_type": "stream",
     "text": [
      "MSE en conjunto de entrenamiento: 0.026657837963227887\n",
      "MSE en conjunto de prueba: 0.027006981916012994\n"
     ]
    }
   ],
   "source": [
    "model = GradientBoostingRegressor()\n",
    "model.fit(X_train_counts, y_train)\n",
    "\n",
    "train_predictions = model.predict(X_train_counts)\n",
    "mse_train = mean_squared_error(y_train, train_predictions)\n",
    "\n",
    "test_predictions = model.predict(X_test_counts)\n",
    "mse_test = mean_squared_error(y_test, test_predictions)\n",
    "\n",
    "print(f\"MSE en conjunto de entrenamiento: {mse_train}\")\n",
    "print(f\"MSE en conjunto de prueba: {mse_test}\")"
   ]
  },
  {
   "cell_type": "markdown",
   "metadata": {},
   "source": [
    "## Punto 2 - Tokenización con CountVectorizer y trigramas\n",
    "\n",
    "En la celda 2 creen y entrenen el mismo modelo de regresión del punto anterior (es decir si usaron un RandomForestRegresor usen nuevamente ese regresor), para que prediga la probabilidad de que un comentario sea tóxico, usando los set de entrenamiento y test definidos anteriormente. Usen la función CountVectorizer **considerando trigramas** para preprocesar los comentarios y presenten el desempeño del modelo con la métrica del MSE.\n",
    "\n",
    "Recuerden que el preprocesamiento que se haga sobre los datos de entrenamiento  (*.fit_transform()*) deben ser aplicado al set de test (*.transform()*)."
   ]
  },
  {
   "cell_type": "code",
   "execution_count": 29,
   "metadata": {},
   "outputs": [
    {
     "name": "stdout",
     "output_type": "stream",
     "text": [
      "MSE en conjunto de entrenamiento con trigramas: 0.037619153794779044\n",
      "MSE en conjunto de prueba con trigramas: 0.03802873738583279\n"
     ]
    }
   ],
   "source": [
    "# Celda 2\n",
    "vectorizer_trigrams = CountVectorizer(ngram_range=(3, 3))\n",
    "X_train_trigrams = vectorizer_trigrams.fit_transform(X_train)\n",
    "X_test_trigrams = vectorizer_trigrams.transform(X_test)\n",
    "\n",
    "model_trigrams = GradientBoostingRegressor()\n",
    "model_trigrams.fit(X_train_trigrams, y_train)\n",
    "\n",
    "train_predictions_trigrams = model_trigrams.predict(X_train_trigrams)\n",
    "mse_train_trigrams = mean_squared_error(y_train, train_predictions_trigrams)\n",
    "\n",
    "test_predictions_trigrams = model_trigrams.predict(X_test_trigrams)\n",
    "mse_test_trigrams = mean_squared_error(y_test, test_predictions_trigrams)\n",
    "\n",
    "print(f\"MSE en conjunto de entrenamiento con trigramas: {mse_train_trigrams}\")\n",
    "print(f\"MSE en conjunto de prueba con trigramas: {mse_test_trigrams}\")"
   ]
  },
  {
   "cell_type": "markdown",
   "metadata": {},
   "source": [
    "## Punto 3 - TfidfVectorizer\n",
    "\n",
    "Investigen sobre la función TfidfVectorizer. En la celda de texto 3, expliquen en qué consiste esta técnica de tokenización (describanla y expliquen su funcionamiento) y cúales son las ventajas o deventajas de su uso al compararlo con la función CountVectorizer."
   ]
  },
  {
   "cell_type": "markdown",
   "metadata": {},
   "source": [
    "## Celda 3\n",
    "El TfidfVectorizer es una técnica de tokenización que se utiliza comúnmente en el procesamiento de texto para convertir colecciones de documentos de texto en representaciones numéricas que los modelos pueden utilizar. Su nombre proviene de \"Term Frequency-Inverse Document Frequency\". \n",
    "\n",
    "# Funcionamiento del TfidfVectorizer: \n",
    "**Frecuencia de Término (TF):**  Calcula la frecuencia con la que aparece cada palabra. Cuantas más veces aparezca una palabra, mayor será su peso TF. \n",
    "\n",
    "**Frecuencia Inversa de Documento (IDF):** Evalúa la importancia de una palabra. Las palabras que aparecen en muchos documentos tendrán un IDF más bajo, mientras que las palabras que aparecen en pocos documentos tendrán un IDF más alto. Esto se hace para dar más peso a las palabras raras que pueden ser más informativas. \n",
    "\n",
    "**Ponderación Tfidf:**  La ponderación final se calcula multiplicando la frecuencia de término (TF) por la frecuencia inversa de documento (IDF). Esto significa que las palabras que aparecen con frecuencia en un documento pero raramente en otros tendrán una puntuación alta, lo que las hace más relevantes para ese documento específico. \n",
    "\n",
    "# Ventajas del TfidfVectorizer: \n",
    "\n",
    "- **Considera la importancia de las palabras:**  TfidfVectorizer no solo cuenta la frecuencia de las palabras, sino que también considera la importancia relativa de cada palabra en todo el corpus. \n",
    "\n",
    "- **Manejo de palabras comunes:**  TfidfVectorizer penaliza las palabras que aparecen en muchos documentos (como \"el\", \"de\", etc.) al darles un bajo peso IDF, lo que ayuda a centrarse en palabras más informativas. \n",
    "\n",
    "# Desventajas del TfidfVectorizer: \n",
    "\n",
    "- **Menos efectivo para texto corto:**  En comparación con CountVectorizer, TfidfVectorizer puede ser menos efectivo para textos muy cortos donde la frecuencia de términos puede ser más importante que la frecuencia inversa de documento. \n",
    "\n",
    "- **Requiere más recursos computacionales:**  Debido a que calcula el IDF para todo el corpus, puede requerir más recursos computacionales en comparación con CountVectorizer. \n",
    "\n",
    "**TfidfVectorizer** es una técnica más sofisticada que CountVectorizer al considerar la importancia relativa de las palabras en un corpus de documentos, pero puede tener un rendimiento diferente dependiendo del tipo de texto y la aplicación específica."
   ]
  },
  {
   "cell_type": "markdown",
   "metadata": {},
   "source": [
    "## Punto 4 - Tokenización con TfidfVectorizer\n",
    "\n",
    "En la celda 4 creen y entrenen el mismo modelo de regresión del primer punto, para que prediga la probabilidad de que un comentario sea tóxico, usando los set de entrenamiento y test definidos anteriormente. Procesen los comentarios con la función **TfidfVectorizer** y presenten el desempeño del modelo con la métrica del MSE.\n",
    "\n",
    "Recuerden que el preprocesamiento que se haga sobre los datos de entrenamiento  (*.fit_transform()*) deben ser aplicado al set de test (*.transform()*)."
   ]
  },
  {
   "cell_type": "code",
   "execution_count": 30,
   "metadata": {},
   "outputs": [
    {
     "name": "stdout",
     "output_type": "stream",
     "text": [
      "MSE en conjunto de entrenamiento con TfidfVectorizer: 0.026380219811188474\n",
      "MSE en conjunto de prueba con TfidfVectorizer: 0.026791280179106005\n"
     ]
    }
   ],
   "source": [
    "# Celda 4\n",
    "from sklearn.feature_extraction.text import TfidfVectorizer\n",
    "\n",
    "tfidf_vectorizer = TfidfVectorizer()\n",
    "X_train_tfidf = tfidf_vectorizer.fit_transform(X_train)\n",
    "X_test_tfidf = tfidf_vectorizer.transform(X_test)\n",
    "\n",
    "model_tfidf = GradientBoostingRegressor()\n",
    "model_tfidf.fit(X_train_tfidf, y_train)\n",
    "\n",
    "train_predictions_tfidf = model_tfidf.predict(X_train_tfidf)\n",
    "mse_train_tfidf = mean_squared_error(y_train, train_predictions_tfidf)\n",
    "\n",
    "test_predictions_tfidf = model_tfidf.predict(X_test_tfidf)\n",
    "mse_test_tfidf = mean_squared_error(y_test, test_predictions_tfidf)\n",
    "\n",
    "print(f\"MSE en conjunto de entrenamiento con TfidfVectorizer: {mse_train_tfidf}\")\n",
    "print(f\"MSE en conjunto de prueba con TfidfVectorizer: {mse_test_tfidf}\")\n"
   ]
  },
  {
   "cell_type": "markdown",
   "metadata": {},
   "source": [
    "## Punto 5 - Comparación y análisis de resultados\n",
    "\n",
    "En la celda 5 comparen los resultados obtenidos de los diferentes modelos y comenten cómo el preprocesamiento de texto afecta el desempeño."
   ]
  },
  {
   "cell_type": "code",
   "execution_count": 31,
   "metadata": {},
   "outputs": [
    {
     "data": {
      "image/png": "[encoded data removed]",
      "text/plain": [
       "<Figure size 1000x600 with 1 Axes>"
      ]
     },
     "metadata": {},
     "output_type": "display_data"
    }
   ],
   "source": [
    "# Celda 5\n",
    "import matplotlib.pyplot as plt\n",
    "\n",
    "# MSE de CountVectorizer\n",
    "mse_count = [mse_test, mse_test_trigrams, mse_test_tfidf]  # Usamos el mismo MSE de CountVectorizer para hacer la comparación\n",
    "labels = ['CountVectorizer', 'CountVectorizer con trigramas', 'TfidfVectorizer']\n",
    "\n",
    "# Crear gráfico de barras\n",
    "plt.figure(figsize=(10, 6))\n",
    "plt.bar(labels, mse_count, color=['blue', 'green', 'red'])\n",
    "plt.xlabel('Modelos')\n",
    "plt.ylabel('MSE')\n",
    "plt.title('Comparación de MSE entre diferentes modelos')\n",
    "plt.ylim(0, max(mse_count) + 0.1)\n",
    "plt.show()\n"
   ]
  },
  {
   "cell_type": "markdown",
   "metadata": {},
   "source": [
    "\n",
    "El preprocesamiento de texto, a través de técnicas como CountVectorizer, CountVectorizer con trigramas y TfidfVectorizer, puede tener un impacto significativo en el desempeño de los modelos de aprendizaje automático. \n",
    "\n",
    "**Representación de las palabras:**  CountVectorizer y CountVectorizer con trigramas representan las palabras en función de su frecuencia en los documentos, mientras que TfidfVectorizer tiene en cuenta la importancia relativa de las palabras. Esto significa que TfidfVectorizer puede dar más peso a las palabras más informativas y menos peso a las palabras comunes. \n",
    "\n",
    "**Manejo de palabras frecuentes:**  TfidfVectorizer penaliza las palabras que aparecen mucho, como artículos y preposiciones, al darles un bajo peso IDF, lo que puede ser beneficioso para enfocarse en palabras más informativas. En contraste, CountVectorizer no distingue entre palabras frecuentes y poco frecuentes en términos de importancia. \n",
    "\n",
    "**Modelo y métricas:**  El tipo de modelo utilizado y la métrica de evaluación también pueden influir en cómo el preprocesamiento afecta el desempeño. Por ejemplo, un modelo de regresión lineal puede tener resultados diferentes al usar diferentes técnicas de tokenización. \n",
    "\n",
    "**Complejidad de los datos:**  Dependiendo de la complejidad y la naturaleza de los datos de texto, ciertas técnicas de preprocesamiento pueden ser más efectivas que otras. Por ejemplo, TfidfVectorizer puede ser más adecuado para datos con un vocabulario variado, mientras que CountVectorizer puede ser suficiente para textos más simples. "
   ]
  }
 ],
 "metadata": {
  "kernelspec": {
   "display_name": "Python 3 (ipykernel)",
   "language": "python",
   "name": "python3"
  },
  "language_info": {
   "codemirror_mode": {
    "name": "ipython",
    "version": 3
   },
   "file_extension": ".py",
   "mimetype": "text/x-python",
   "name": "python",
   "nbconvert_exporter": "python",
   "pygments_lexer": "ipython3",
   "version": "3.12.2"
  },
  "name": "_merged"
 },
 "nbformat": 4,
 "nbformat_minor": 4
}
