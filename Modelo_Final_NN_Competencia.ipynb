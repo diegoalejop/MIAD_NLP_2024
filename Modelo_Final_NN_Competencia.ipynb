{
  "cells": [
    {
      "cell_type": "markdown",
      "metadata": {
        "id": "view-in-github",
        "colab_type": "text"
      },
      "source": [
        "<a href=\"https://colab.research.google.com/github/diegoalejop/MIAD_NLP_2024/blob/main/Modelo_Final_NN_Competencia.ipynb\" target=\"_parent\"><img src=\"https://colab.research.google.com/assets/colab-badge.svg\" alt=\"Open In Colab\"/></a>"
      ]
    },
    {
      "cell_type": "code",
      "source": [
        "pip install livelossplot"
      ],
      "metadata": {
        "colab": {
          "base_uri": "https://localhost:8080/"
        },
        "id": "eeOAJh5M6Tsb",
        "outputId": "5905c071-4c9b-4b52-a99b-c4558b55cb8c"
      },
      "execution_count": 2,
      "outputs": [
        {
          "output_type": "stream",
          "name": "stdout",
          "text": [
            "Collecting livelossplot\n",
            "  Downloading livelossplot-0.5.5-py3-none-any.whl (22 kB)\n",
            "Requirement already satisfied: matplotlib in /usr/local/lib/python3.10/dist-packages (from livelossplot) (3.7.1)\n",
            "Requirement already satisfied: bokeh in /usr/local/lib/python3.10/dist-packages (from livelossplot) (3.3.4)\n",
            "Requirement already satisfied: Jinja2>=2.9 in /usr/local/lib/python3.10/dist-packages (from bokeh->livelossplot) (3.1.4)\n",
            "Requirement already satisfied: contourpy>=1 in /usr/local/lib/python3.10/dist-packages (from bokeh->livelossplot) (1.2.1)\n",
            "Requirement already satisfied: numpy>=1.16 in /usr/local/lib/python3.10/dist-packages (from bokeh->livelossplot) (1.25.2)\n",
            "Requirement already satisfied: packaging>=16.8 in /usr/local/lib/python3.10/dist-packages (from bokeh->livelossplot) (24.0)\n",
            "Requirement already satisfied: pandas>=1.2 in /usr/local/lib/python3.10/dist-packages (from bokeh->livelossplot) (2.0.3)\n",
            "Requirement already satisfied: pillow>=7.1.0 in /usr/local/lib/python3.10/dist-packages (from bokeh->livelossplot) (9.4.0)\n",
            "Requirement already satisfied: PyYAML>=3.10 in /usr/local/lib/python3.10/dist-packages (from bokeh->livelossplot) (6.0.1)\n",
            "Requirement already satisfied: tornado>=5.1 in /usr/local/lib/python3.10/dist-packages (from bokeh->livelossplot) (6.3.3)\n",
            "Requirement already satisfied: xyzservices>=2021.09.1 in /usr/local/lib/python3.10/dist-packages (from bokeh->livelossplot) (2024.4.0)\n",
            "Requirement already satisfied: cycler>=0.10 in /usr/local/lib/python3.10/dist-packages (from matplotlib->livelossplot) (0.12.1)\n",
            "Requirement already satisfied: fonttools>=4.22.0 in /usr/local/lib/python3.10/dist-packages (from matplotlib->livelossplot) (4.51.0)\n",
            "Requirement already satisfied: kiwisolver>=1.0.1 in /usr/local/lib/python3.10/dist-packages (from matplotlib->livelossplot) (1.4.5)\n",
            "Requirement already satisfied: pyparsing>=2.3.1 in /usr/local/lib/python3.10/dist-packages (from matplotlib->livelossplot) (3.1.2)\n",
            "Requirement already satisfied: python-dateutil>=2.7 in /usr/local/lib/python3.10/dist-packages (from matplotlib->livelossplot) (2.8.2)\n",
            "Requirement already satisfied: MarkupSafe>=2.0 in /usr/local/lib/python3.10/dist-packages (from Jinja2>=2.9->bokeh->livelossplot) (2.1.5)\n",
            "Requirement already satisfied: pytz>=2020.1 in /usr/local/lib/python3.10/dist-packages (from pandas>=1.2->bokeh->livelossplot) (2023.4)\n",
            "Requirement already satisfied: tzdata>=2022.1 in /usr/local/lib/python3.10/dist-packages (from pandas>=1.2->bokeh->livelossplot) (2024.1)\n",
            "Requirement already satisfied: six>=1.5 in /usr/local/lib/python3.10/dist-packages (from python-dateutil>=2.7->matplotlib->livelossplot) (1.16.0)\n",
            "Installing collected packages: livelossplot\n",
            "Successfully installed livelossplot-0.5.5\n"
          ]
        }
      ]
    },
    {
      "cell_type": "code",
      "source": [
        "pip install scikeras"
      ],
      "metadata": {
        "colab": {
          "base_uri": "https://localhost:8080/",
          "height": 756
        },
        "id": "aza_WwD09jbC",
        "outputId": "fb73e88f-39c6-4a88-c962-2d914e2034aa"
      },
      "execution_count": 18,
      "outputs": [
        {
          "output_type": "stream",
          "name": "stdout",
          "text": [
            "Collecting scikeras\n",
            "  Downloading scikeras-0.13.0-py3-none-any.whl (26 kB)\n",
            "Collecting keras>=3.2.0 (from scikeras)\n",
            "  Downloading keras-3.3.3-py3-none-any.whl (1.1 MB)\n",
            "\u001b[2K     \u001b[90m━━━━━━━━━━━━━━━━━━━━━━━━━━━━━━━━━━━━━━━━\u001b[0m \u001b[32m1.1/1.1 MB\u001b[0m \u001b[31m17.2 MB/s\u001b[0m eta \u001b[36m0:00:00\u001b[0m\n",
            "\u001b[?25hCollecting scikit-learn>=1.4.2 (from scikeras)\n",
            "  Downloading scikit_learn-1.5.0-cp310-cp310-manylinux_2_17_x86_64.manylinux2014_x86_64.whl (13.3 MB)\n",
            "\u001b[2K     \u001b[90m━━━━━━━━━━━━━━━━━━━━━━━━━━━━━━━━━━━━━━━━\u001b[0m \u001b[32m13.3/13.3 MB\u001b[0m \u001b[31m49.3 MB/s\u001b[0m eta \u001b[36m0:00:00\u001b[0m\n",
            "\u001b[?25hRequirement already satisfied: absl-py in /usr/local/lib/python3.10/dist-packages (from keras>=3.2.0->scikeras) (1.4.0)\n",
            "Requirement already satisfied: numpy in /usr/local/lib/python3.10/dist-packages (from keras>=3.2.0->scikeras) (1.25.2)\n",
            "Requirement already satisfied: rich in /usr/local/lib/python3.10/dist-packages (from keras>=3.2.0->scikeras) (13.7.1)\n",
            "Collecting namex (from keras>=3.2.0->scikeras)\n",
            "  Downloading namex-0.0.8-py3-none-any.whl (5.8 kB)\n",
            "Requirement already satisfied: h5py in /usr/local/lib/python3.10/dist-packages (from keras>=3.2.0->scikeras) (3.9.0)\n",
            "Collecting optree (from keras>=3.2.0->scikeras)\n",
            "  Downloading optree-0.11.0-cp310-cp310-manylinux_2_17_x86_64.manylinux2014_x86_64.whl (311 kB)\n",
            "\u001b[2K     \u001b[90m━━━━━━━━━━━━━━━━━━━━━━━━━━━━━━━━━━━━━━━━\u001b[0m \u001b[32m311.2/311.2 kB\u001b[0m \u001b[31m35.4 MB/s\u001b[0m eta \u001b[36m0:00:00\u001b[0m\n",
            "\u001b[?25hRequirement already satisfied: ml-dtypes in /usr/local/lib/python3.10/dist-packages (from keras>=3.2.0->scikeras) (0.2.0)\n",
            "Requirement already satisfied: scipy>=1.6.0 in /usr/local/lib/python3.10/dist-packages (from scikit-learn>=1.4.2->scikeras) (1.11.4)\n",
            "Requirement already satisfied: joblib>=1.2.0 in /usr/local/lib/python3.10/dist-packages (from scikit-learn>=1.4.2->scikeras) (1.4.2)\n",
            "Requirement already satisfied: threadpoolctl>=3.1.0 in /usr/local/lib/python3.10/dist-packages (from scikit-learn>=1.4.2->scikeras) (3.5.0)\n",
            "Requirement already satisfied: typing-extensions>=4.0.0 in /usr/local/lib/python3.10/dist-packages (from optree->keras>=3.2.0->scikeras) (4.11.0)\n",
            "Requirement already satisfied: markdown-it-py>=2.2.0 in /usr/local/lib/python3.10/dist-packages (from rich->keras>=3.2.0->scikeras) (3.0.0)\n",
            "Requirement already satisfied: pygments<3.0.0,>=2.13.0 in /usr/local/lib/python3.10/dist-packages (from rich->keras>=3.2.0->scikeras) (2.16.1)\n",
            "Requirement already satisfied: mdurl~=0.1 in /usr/local/lib/python3.10/dist-packages (from markdown-it-py>=2.2.0->rich->keras>=3.2.0->scikeras) (0.1.2)\n",
            "Installing collected packages: namex, optree, scikit-learn, keras, scikeras\n",
            "  Attempting uninstall: scikit-learn\n",
            "    Found existing installation: scikit-learn 1.2.2\n",
            "    Uninstalling scikit-learn-1.2.2:\n",
            "      Successfully uninstalled scikit-learn-1.2.2\n",
            "  Attempting uninstall: keras\n",
            "    Found existing installation: keras 2.15.0\n",
            "    Uninstalling keras-2.15.0:\n",
            "      Successfully uninstalled keras-2.15.0\n",
            "\u001b[31mERROR: pip's dependency resolver does not currently take into account all the packages that are installed. This behaviour is the source of the following dependency conflicts.\n",
            "tensorflow 2.15.0 requires keras<2.16,>=2.15.0, but you have keras 3.3.3 which is incompatible.\u001b[0m\u001b[31m\n",
            "\u001b[0mSuccessfully installed keras-3.3.3 namex-0.0.8 optree-0.11.0 scikeras-0.13.0 scikit-learn-1.5.0\n"
          ]
        },
        {
          "output_type": "display_data",
          "data": {
            "application/vnd.colab-display-data+json": {
              "pip_warning": {
                "packages": [
                  "keras"
                ]
              },
              "id": "6487731cae564f3cb4f2c8cd906a5e49"
            }
          },
          "metadata": {}
        }
      ]
    },
    {
      "cell_type": "code",
      "execution_count": 17,
      "metadata": {
        "colab": {
          "base_uri": "https://localhost:8080/",
          "height": 454
        },
        "id": "s9E1FU2n5-9b",
        "outputId": "1ca17a46-cf9c-4463-8458-db0933b9c1e5"
      },
      "outputs": [
        {
          "output_type": "stream",
          "name": "stderr",
          "text": [
            "[nltk_data] Downloading package wordnet to /root/nltk_data...\n",
            "[nltk_data]   Package wordnet is already up-to-date!\n",
            "[nltk_data] Downloading package stopwords to /root/nltk_data...\n",
            "[nltk_data]   Package stopwords is already up-to-date!\n"
          ]
        },
        {
          "output_type": "error",
          "ename": "ModuleNotFoundError",
          "evalue": "No module named 'scikeras'",
          "traceback": [
            "\u001b[0;31m---------------------------------------------------------------------------\u001b[0m",
            "\u001b[0;31mModuleNotFoundError\u001b[0m                       Traceback (most recent call last)",
            "\u001b[0;32m<ipython-input-17-5dbf5ceb08ee>\u001b[0m in \u001b[0;36m<cell line: 44>\u001b[0;34m()\u001b[0m\n\u001b[1;32m     42\u001b[0m \u001b[0;32mfrom\u001b[0m \u001b[0mtensorflow\u001b[0m\u001b[0;34m.\u001b[0m\u001b[0mkeras\u001b[0m\u001b[0;34m.\u001b[0m\u001b[0mlosses\u001b[0m \u001b[0;32mimport\u001b[0m \u001b[0mCategoricalCrossentropy\u001b[0m\u001b[0;34m\u001b[0m\u001b[0;34m\u001b[0m\u001b[0m\n\u001b[1;32m     43\u001b[0m \u001b[0;34m\u001b[0m\u001b[0m\n\u001b[0;32m---> 44\u001b[0;31m \u001b[0;32mfrom\u001b[0m \u001b[0mscikeras\u001b[0m\u001b[0;34m.\u001b[0m\u001b[0mwrappers\u001b[0m \u001b[0;32mimport\u001b[0m \u001b[0mKerasClassifier\u001b[0m\u001b[0;34m,\u001b[0m \u001b[0mKerasRegressor\u001b[0m\u001b[0;34m\u001b[0m\u001b[0;34m\u001b[0m\u001b[0m\n\u001b[0m\u001b[1;32m     45\u001b[0m \u001b[0;34m\u001b[0m\u001b[0m\n\u001b[1;32m     46\u001b[0m \u001b[0;32mimport\u001b[0m \u001b[0mre\u001b[0m\u001b[0;34m\u001b[0m\u001b[0;34m\u001b[0m\u001b[0m\n",
            "\u001b[0;31mModuleNotFoundError\u001b[0m: No module named 'scikeras'",
            "",
            "\u001b[0;31m---------------------------------------------------------------------------\u001b[0;32m\nNOTE: If your import is failing due to a missing package, you can\nmanually install dependencies using either !pip or !apt.\n\nTo view examples of installing some common dependencies, click the\n\"Open Examples\" button below.\n\u001b[0;31m---------------------------------------------------------------------------\u001b[0m\n"
          ],
          "errorDetails": {
            "actions": [
              {
                "action": "open_url",
                "actionText": "Open Examples",
                "url": "/notebooks/snippets/importing_libraries.ipynb"
              }
            ]
          }
        }
      ],
      "source": [
        "# Importación librerías\n",
        "import pandas as pd\n",
        "import os\n",
        "import numpy as np\n",
        "import matplotlib.pyplot as plt\n",
        "\n",
        "from sklearn.feature_extraction.text import CountVectorizer\n",
        "from sklearn.preprocessing import MultiLabelBinarizer, LabelEncoder\n",
        "from sklearn.multiclass import OneVsRestClassifier\n",
        "from sklearn.ensemble import RandomForestRegressor, RandomForestClassifier\n",
        "from sklearn.metrics import r2_score, roc_auc_score\n",
        "from sklearn.model_selection import train_test_split, RandomizedSearchCV\n",
        "\n",
        "from keras import initializers\n",
        "from keras import optimizers\n",
        "from keras import activations\n",
        "from keras.models import Sequential\n",
        "from keras.layers import Dense, Activation, Embedding, Dropout, LSTM\n",
        "\n",
        "from livelossplot import PlotLossesKeras\n",
        "from keras.callbacks import EarlyStopping\n",
        "\n",
        "from keras.preprocessing import sequence\n",
        "\n",
        "from keras import optimizers, Input\n",
        "from keras import backend as K\n",
        "import keras.optimizers as opts\n",
        "\n",
        "from nltk.stem.snowball import SnowballStemmer\n",
        "from nltk.stem import WordNetLemmatizer\n",
        "\n",
        "import seaborn as sns\n",
        "\n",
        "import nltk\n",
        "from nltk.stem import PorterStemmer\n",
        "nltk.download('wordnet')\n",
        "nltk.download('stopwords')\n",
        "\n",
        "import tensorflow as tf\n",
        "from tensorflow.keras.preprocessing.text import Tokenizer\n",
        "from tensorflow.keras.preprocessing.sequence import pad_sequences\n",
        "from tensorflow.keras.losses import CategoricalCrossentropy\n",
        "\n",
        "from scikeras.wrappers import KerasClassifier, KerasRegressor\n",
        "\n",
        "import re"
      ]
    },
    {
      "cell_type": "code",
      "execution_count": 5,
      "metadata": {
        "colab": {
          "base_uri": "https://localhost:8080/",
          "height": 816
        },
        "id": "kaPGdalQ5-9c",
        "outputId": "f8df88ea-a7bf-4bca-a346-6f5299065af9"
      },
      "outputs": [
        {
          "output_type": "stream",
          "name": "stdout",
          "text": [
            "count    7895.000000\n",
            "mean      748.820899\n",
            "std       494.766799\n",
            "min         3.000000\n",
            "25%       412.000000\n",
            "50%       655.000000\n",
            "75%       951.500000\n",
            "max      9408.000000\n",
            "Name: len, dtype: float64\n",
            "(254, 6)\n",
            "(17, 6)\n",
            "Descripción por conteo de balabras:\n",
            "count    7895.000000\n",
            "mean      144.770868\n",
            "std        95.816408\n",
            "min         1.000000\n",
            "25%        80.000000\n",
            "50%       127.000000\n",
            "75%       183.000000\n",
            "max      1863.000000\n",
            "Name: word_count, dtype: float64\n"
          ]
        },
        {
          "output_type": "display_data",
          "data": {
            "text/plain": [
              "<Figure size 640x480 with 1 Axes>"
            ],
            "image/png": "[encoded data removed]"
          },
          "metadata": {}
        }
      ],
      "source": [
        "dataTraining = pd.read_csv('https://github.com/albahnsen/MIAD_ML_and_NLP/raw/main/datasets/dataTraining.zip', encoding='UTF-8', index_col=0)\n",
        "dataTraining['len'] = dataTraining['plot'].str.len()\n",
        "dataTesting = pd.read_csv('https://github.com/albahnsen/MIAD_ML_and_NLP/raw/main/datasets/dataTesting.zip', encoding='UTF-8', index_col=0)\n",
        "sns.histplot(dataTraining['len'])\n",
        "print(dataTraining['len'].describe())\n",
        "print(dataTraining[dataTraining['len']>1900].shape)\n",
        "print(dataTraining[dataTraining['len']<50].shape)\n",
        "\n",
        "def count_words(text):\n",
        "    words = text.split()\n",
        "    return len(words)\n",
        "\n",
        "# Aplicar la función a la columna 'description' y crear una nueva columna 'word_count'\n",
        "print(\"Descripción por conteo de balabras:\")\n",
        "dataTraining['word_count'] = dataTraining['plot'].apply(count_words)\n",
        "print(dataTraining['word_count'].describe())"
      ]
    },
    {
      "cell_type": "code",
      "execution_count": 6,
      "metadata": {
        "id": "Ux4gqAXa5-9c"
      },
      "outputs": [],
      "source": [
        "# Definición de variable de interés (y)\n",
        "dataTraining['genres'] = dataTraining['genres'].map(lambda x: eval(x))\n",
        "le = MultiLabelBinarizer()\n",
        "#le = LabelEncoder()\n",
        "\n",
        "y_genres = le.fit_transform(dataTraining['genres'])"
      ]
    },
    {
      "cell_type": "code",
      "execution_count": 7,
      "metadata": {
        "id": "xs9BIGt55-9c"
      },
      "outputs": [],
      "source": [
        "#Importando diccionario de embeddings\n",
        "#Se descarga de https://downloads.cs.stanford.edu/nlp/data/glove.6B.zip\n",
        "#Sugerido por tutorial de keras: https://keras.io/examples/nlp/pretrained_word_embeddings/\n",
        "embedding_dim = 300 #Se define la dimensión de los embeddings usados. Se eleigen entre 50, 100, 200 y 300\n",
        "\n",
        "path_to_glove_file = r'/content/glove.6B.'+str(embedding_dim)+'d.txt' #Ruta donde se descomprimen los txt\n",
        "embeddings_index = {} #Se guarda el diccionario de los embeddings\n",
        "\n",
        "with open(path_to_glove_file) as f:\n",
        "    for line in f:\n",
        "        word, coefs = line.split(maxsplit=1)\n",
        "        coefs = np.fromstring(coefs, \"f\", sep=\" \")\n",
        "        embeddings_index[word] = coefs"
      ]
    },
    {
      "cell_type": "code",
      "execution_count": 8,
      "metadata": {
        "id": "YUb7m_XI5-9c"
      },
      "outputs": [],
      "source": [
        "#Funcion de procesamiento de texto\n",
        "def procesaTexto(text,lematize =False, stemming = False):\n",
        "    \"\"\"\n",
        "    Preprocesamiento de textos para utilizar en el modelo.\n",
        "\n",
        "    Parametros:\n",
        "\n",
        "    text(str): la cadena de texto a la que se le va a aplicar el procesamiento.\n",
        "    lematize\n",
        "    \"\"\"\n",
        "    text = text.lower() #Pasar el texto a minúsculas\n",
        "    text = re.sub(r'\\b\\w{1,2}\\b', '', text)  # Eliminar palabras cortas\n",
        "    text = re.sub(r'\\d+', '', text)  # Eliminar números\n",
        "    #Exclusión de stopwords\n",
        "    english_stopwords = nltk.corpus.stopwords.words('english')\n",
        "    words = text.split()\n",
        "    words = [word for word in words if word.lower() not in english_stopwords]\n",
        "    #Stemming\n",
        "    if stemming == True:\n",
        "        stemmer = PortStemmer()\n",
        "        words = [stemmer.stem(word) for word in words]  # Aplicar stemming\n",
        "    #Lematización\n",
        "    if lematize ==True:\n",
        "        lemmatizer = WordNetLemmatizer()\n",
        "        words = [lemmatizer.lemmatize(word) for word in words]\n",
        "    return ' '.join(words)\n",
        "\n",
        "#Función que obtiene los embedings de las palabras\n",
        "def generaEmbedding(text):\n",
        "    words = text.split()\n",
        "    embeddings = []\n",
        "    for word in words:\n",
        "        if word in embeddings_index: #Se debe contar con el indice de embeddings\n",
        "            embeddings.append(embeddings_index[word])\n",
        "    if len(embeddings) == 0:\n",
        "        return np.zeros(embedding_dim)  # Si la palabra no existe se rellena del tamaño de la longitud de los embeddings\n",
        "    return np.mean(embeddings, axis=0)\n"
      ]
    },
    {
      "cell_type": "code",
      "execution_count": 9,
      "metadata": {
        "id": "dduREcXa5-9d"
      },
      "outputs": [],
      "source": [
        "#Pre procesamiento del texto\n",
        "\n",
        "#Para datos de entrenamiento\n",
        "dataTraining['Plot Process'] = dataTraining['plot'].apply(procesaTexto) #Se alimpia limpieza de texto\n",
        "X_embeddings = np.array([generaEmbedding(text) for text in dataTraining['Plot Process']]) #Se consiguen los embeddings\n",
        "X_train_p, X_test_p, y_train_genres_p, y_test_genres_p = train_test_split(X_embeddings, y_genres, test_size=0.2, random_state=42) #Se separan los datos\n",
        "\n",
        "#Para datos de prueba (competencia)\n",
        "dataTesting['Plot Process'] = dataTesting['plot'].apply(procesaTexto) #Se alimpia limpieza de texto\n",
        "X_embeddingsTest = np.array([generaEmbedding(text) for text in dataTesting['Plot Process']]) #Se consiguen los embeddings"
      ]
    },
    {
      "cell_type": "markdown",
      "metadata": {
        "id": "jUZonQwy5-9d"
      },
      "source": [
        "# Pruebas"
      ]
    },
    {
      "cell_type": "code",
      "source": [
        "def nn_model_params(hp_optimizer ,\n",
        "                    hp_neurons,\n",
        "                    hp_activation,\n",
        "                    hp_dropout,\n",
        "                    hp_patience):\n",
        "\n",
        "    K.clear_session()\n",
        "\n",
        "    # Definición red neuronal con la función Sequential()\n",
        "    model = Sequential()\n",
        "\n",
        "    # Definición de las capas de la red con el número de neuronas y la función de activación definidos en la función nn_model_params\n",
        "    model.add(Dense(hp_neurons, input_shape=(X_train_p.shape[1],), activation=hp_activation))\n",
        "    model.add(Dense(hp_neurons, activation=hp_activation))\n",
        "    model.add(Dropout(hp_dropout))\n",
        "    model.add(Dense(24))\n",
        "    model.add(Activation(hp_activation))\n",
        "\n",
        "    # Definición de función de perdida con parámetros definidos en la función nn_model_params\n",
        "    model.compile(optimizer = hp_optimizer, loss='binary_crossentropy')\n",
        "\n",
        "    # Definición de la función EarlyStopping con parámetro definido en la función nn_model_params\n",
        "    early_stopping = EarlyStopping(monitor=\"val_loss\", patience = hp_patience)\n",
        "\n",
        "    # Entrenamiento de la red neuronal con parámetros definidos en la función nn_model_params\n",
        "    model.fit(X_train, Y_train,\n",
        "              validation_data = (X_val, Y_val),\n",
        "              epochs=100,\n",
        "              callbacks=[early_stopping, PlotLossesKeras()],\n",
        "              verbose=True\n",
        "              )\n",
        "\n",
        "    return model"
      ],
      "metadata": {
        "id": "3QTQ_Xag6-DG"
      },
      "execution_count": 12,
      "outputs": []
    },
    {
      "cell_type": "code",
      "source": [
        "# Definición de parámetros y sus valores sobre los que se va a calibrar\n",
        "nn_params = {\n",
        "    'hp_optimizer': ['adam','sgd'],\n",
        "    'hp_activation': ['relu','sigmoid'],\n",
        "    'hp_neurons':[50,100,200,300],\n",
        "    'hp_patience':[3,5],\n",
        "    'hp_dropout': [0.4, 0.8]\n",
        "}"
      ],
      "metadata": {
        "id": "4dBZVs2p8cgz"
      },
      "execution_count": 14,
      "outputs": []
    },
    {
      "cell_type": "code",
      "source": [
        "from sklearn.model_selection import RandomizedSearchCV\n",
        "\n",
        "# Definición de red neuronal usando el wrapper KerasRegressor y usando como argumento build_fn en la función nn_model_params\n",
        "nn_model = KerasRegressor(build_fn=nn_model_params, verbose=0)\n",
        "\n",
        "# Definición método GridSearch para la calibración de parámetros definidos en nn_params\n",
        "rs = RandomizedSearchCV(nn_model, param_distributions=nn_params, n_iter=5, cv=3)\n",
        "rs.fit(X_train, Y_train)\n",
        "\n",
        "print('Los mejores parametros segun Randomnized Search:', rs.best_params_)"
      ],
      "metadata": {
        "id": "2DUIraeR8-Q3"
      },
      "execution_count": null,
      "outputs": []
    },
    {
      "cell_type": "markdown",
      "metadata": {
        "id": "RobjNu-F5-9e"
      },
      "source": [
        "## Mejor modelo hasta el momento"
      ]
    },
    {
      "cell_type": "markdown",
      "metadata": {
        "id": "cS3D9r3k5-9e"
      },
      "source": [
        "- Datos lematizados y un vector de 100, dos capas sigmoides de 256, droput 0.55, llegando a un performance en prueba de ROC AUC de 0.8602 (Kaggle: 0.8672)\n",
        "- Datos lematizados y un vector de 300, dos capas sigmoides de 256, droput 0.6, llegando a un performance en prueba de ROC AUC de 0.8842 (Kaggle: 0.8801)\n",
        "- Datos sin lematizar y un vector de 300, 1 capa sigmoide de 256, 1 capa sigmoide de 200, dropout 0.55, llegando a un performance en prueba de ROC AUC de 0.8882 (Kaggle: 0.8814)\n",
        "- Datos sin lematizar y un vector de 300, 1 capa sigmoide de 256, 1 capa sigmoide de 128, dropout 0.4, llegando a un performance en prueba de ROC AUC de 0.8905 (Kaggle: 0.8845)"
      ]
    },
    {
      "cell_type": "code",
      "execution_count": 11,
      "metadata": {
        "colab": {
          "base_uri": "https://localhost:8080/",
          "height": 963
        },
        "id": "hDa_ieKI5-9e",
        "outputId": "600bbb6d-877f-4777-8688-a0f4ee6ad949"
      },
      "outputs": [
        {
          "output_type": "display_data",
          "data": {
            "text/plain": [
              "<Figure size 1200x800 with 2 Axes>"
            ],
            "image/png": "[encoded data removed]"
          },
          "metadata": {}
        },
        {
          "output_type": "stream",
          "name": "stdout",
          "text": [
            "accuracy\n",
            "\ttraining         \t (min:    0.191, max:    0.382, cur:    0.378)\n",
            "\tvalidation       \t (min:    0.187, max:    0.396, cur:    0.394)\n",
            "Loss\n",
            "\ttraining         \t (min:    0.200, max:    0.328, cur:    0.200)\n",
            "\tvalidation       \t (min:    0.209, max:    0.296, cur:    0.210)\n",
            "198/198 [==============================] - 2s 10ms/step - loss: 0.2000 - accuracy: 0.3776 - val_loss: 0.2099 - val_accuracy: 0.3939\n",
            "50/50 [==============================] - 0s 3ms/step\n"
          ]
        },
        {
          "output_type": "execute_result",
          "data": {
            "text/plain": [
              "0.8704494091888204"
            ]
          },
          "metadata": {},
          "execution_count": 11
        }
      ],
      "source": [
        "K.clear_session()\n",
        "modelDep1 = Sequential()\n",
        "modelDep1.add(Dense(256, input_shape=(X_train_p.shape[1],), activation='sigmoid'))\n",
        "modelDep1.add(Dense(128, activation = 'sigmoid'))\n",
        "modelDep1.add(Dropout(0.4))\n",
        "modelDep1.add(Dense(24))\n",
        "modelDep1.add(Activation('sigmoid'))\n",
        "early_stopping = EarlyStopping(monitor=\"val_loss\", patience = 3)\n",
        "modelDep1.compile(optimizer='adam', loss='binary_crossentropy', metrics=['accuracy'])\n",
        "\n",
        "modelDep1.fit(X_train_p, y_train_genres_p,\n",
        "                    verbose=1,\n",
        "                    epochs=100,\n",
        "                    callbacks=[early_stopping, PlotLossesKeras()],\n",
        "                    validation_data=(X_test_p, y_test_genres_p))\n",
        "\n",
        "# Predicción del modelo de clasificación\n",
        "y_pred_genres_p1 = modelDep1.predict(X_test_p)\n",
        "\n",
        "# Impresión del desempeño del modelo\n",
        "roc_auc_score(y_test_genres_p, y_pred_genres_p1, average='macro')"
      ]
    },
    {
      "cell_type": "markdown",
      "metadata": {
        "id": "Rt8qGskb5-9e"
      },
      "source": [
        "# Predicción"
      ]
    },
    {
      "cell_type": "code",
      "execution_count": null,
      "metadata": {
        "id": "Y2Jrc0tO5-9e",
        "outputId": "af13272d-e4d7-4c1a-94fb-6c63ad65b741"
      },
      "outputs": [
        {
          "name": "stderr",
          "output_type": "stream",
          "text": [
            "WARNING:absl:You are saving your model as an HDF5 file via `model.save()` or `keras.saving.save_model(model)`. This file format is considered legacy. We recommend using instead the native Keras format, e.g. `model.save('my_model.keras')` or `keras.saving.save_model(model, 'my_model.keras')`. \n"
          ]
        }
      ],
      "source": [
        "#Guardar el mejor modelo\n",
        "modelDep1.save('./Competencia/NN_genre.h5')\n",
        "modelDep1.save('./Competencia/NN_genre.keras')"
      ]
    },
    {
      "cell_type": "code",
      "execution_count": null,
      "metadata": {
        "id": "ex2DgyHr5-9e",
        "outputId": "86407949-b809-4eae-f82f-d6a907f353fb"
      },
      "outputs": [
        {
          "name": "stdout",
          "output_type": "stream",
          "text": [
            "\u001b[1m106/106\u001b[0m \u001b[32m━━━━━━━━━━━━━━━━━━━━\u001b[0m\u001b[37m\u001b[0m \u001b[1m0s\u001b[0m 2ms/step\n"
          ]
        },
        {
          "data": {
            "text/html": [
              "<div>\n",
              "<style scoped>\n",
              "    .dataframe tbody tr th:only-of-type {\n",
              "        vertical-align: middle;\n",
              "    }\n",
              "\n",
              "    .dataframe tbody tr th {\n",
              "        vertical-align: top;\n",
              "    }\n",
              "\n",
              "    .dataframe thead th {\n",
              "        text-align: right;\n",
              "    }\n",
              "</style>\n",
              "<table border=\"1\" class=\"dataframe\">\n",
              "  <thead>\n",
              "    <tr style=\"text-align: right;\">\n",
              "      <th></th>\n",
              "      <th>p_Action</th>\n",
              "      <th>p_Adventure</th>\n",
              "      <th>p_Animation</th>\n",
              "      <th>p_Biography</th>\n",
              "      <th>p_Comedy</th>\n",
              "      <th>p_Crime</th>\n",
              "      <th>p_Documentary</th>\n",
              "      <th>p_Drama</th>\n",
              "      <th>p_Family</th>\n",
              "      <th>p_Fantasy</th>\n",
              "      <th>...</th>\n",
              "      <th>p_Musical</th>\n",
              "      <th>p_Mystery</th>\n",
              "      <th>p_News</th>\n",
              "      <th>p_Romance</th>\n",
              "      <th>p_Sci-Fi</th>\n",
              "      <th>p_Short</th>\n",
              "      <th>p_Sport</th>\n",
              "      <th>p_Thriller</th>\n",
              "      <th>p_War</th>\n",
              "      <th>p_Western</th>\n",
              "    </tr>\n",
              "  </thead>\n",
              "  <tbody>\n",
              "    <tr>\n",
              "      <th>1</th>\n",
              "      <td>0.002020</td>\n",
              "      <td>0.017231</td>\n",
              "      <td>0.001221</td>\n",
              "      <td>0.017631</td>\n",
              "      <td>0.444855</td>\n",
              "      <td>0.024910</td>\n",
              "      <td>0.000475</td>\n",
              "      <td>0.674402</td>\n",
              "      <td>0.029397</td>\n",
              "      <td>0.039253</td>\n",
              "      <td>...</td>\n",
              "      <td>0.039316</td>\n",
              "      <td>0.050448</td>\n",
              "      <td>0.000006</td>\n",
              "      <td>0.610990</td>\n",
              "      <td>0.001716</td>\n",
              "      <td>0.003583</td>\n",
              "      <td>0.000044</td>\n",
              "      <td>0.081761</td>\n",
              "      <td>0.002446</td>\n",
              "      <td>0.002098</td>\n",
              "    </tr>\n",
              "    <tr>\n",
              "      <th>4</th>\n",
              "      <td>0.074310</td>\n",
              "      <td>0.001152</td>\n",
              "      <td>0.000002</td>\n",
              "      <td>0.110262</td>\n",
              "      <td>0.119233</td>\n",
              "      <td>0.673642</td>\n",
              "      <td>0.012976</td>\n",
              "      <td>0.918467</td>\n",
              "      <td>0.000272</td>\n",
              "      <td>0.000017</td>\n",
              "      <td>...</td>\n",
              "      <td>0.000707</td>\n",
              "      <td>0.002079</td>\n",
              "      <td>0.000009</td>\n",
              "      <td>0.034206</td>\n",
              "      <td>0.000005</td>\n",
              "      <td>0.001047</td>\n",
              "      <td>0.004314</td>\n",
              "      <td>0.118782</td>\n",
              "      <td>0.002760</td>\n",
              "      <td>0.018822</td>\n",
              "    </tr>\n",
              "    <tr>\n",
              "      <th>5</th>\n",
              "      <td>0.068393</td>\n",
              "      <td>0.002376</td>\n",
              "      <td>0.000004</td>\n",
              "      <td>0.155829</td>\n",
              "      <td>0.063375</td>\n",
              "      <td>0.813856</td>\n",
              "      <td>0.021108</td>\n",
              "      <td>0.820229</td>\n",
              "      <td>0.000348</td>\n",
              "      <td>0.001653</td>\n",
              "      <td>...</td>\n",
              "      <td>0.000665</td>\n",
              "      <td>0.269750</td>\n",
              "      <td>0.000366</td>\n",
              "      <td>0.081714</td>\n",
              "      <td>0.001314</td>\n",
              "      <td>0.000656</td>\n",
              "      <td>0.000439</td>\n",
              "      <td>0.651030</td>\n",
              "      <td>0.001072</td>\n",
              "      <td>0.001252</td>\n",
              "    </tr>\n",
              "    <tr>\n",
              "      <th>6</th>\n",
              "      <td>0.234592</td>\n",
              "      <td>0.054370</td>\n",
              "      <td>0.000299</td>\n",
              "      <td>0.029771</td>\n",
              "      <td>0.062385</td>\n",
              "      <td>0.142712</td>\n",
              "      <td>0.006910</td>\n",
              "      <td>0.696231</td>\n",
              "      <td>0.002048</td>\n",
              "      <td>0.010763</td>\n",
              "      <td>...</td>\n",
              "      <td>0.000270</td>\n",
              "      <td>0.118655</td>\n",
              "      <td>0.000269</td>\n",
              "      <td>0.080885</td>\n",
              "      <td>0.125186</td>\n",
              "      <td>0.000686</td>\n",
              "      <td>0.000320</td>\n",
              "      <td>0.579496</td>\n",
              "      <td>0.049827</td>\n",
              "      <td>0.001251</td>\n",
              "    </tr>\n",
              "    <tr>\n",
              "      <th>7</th>\n",
              "      <td>0.006671</td>\n",
              "      <td>0.006299</td>\n",
              "      <td>0.001089</td>\n",
              "      <td>0.012421</td>\n",
              "      <td>0.128389</td>\n",
              "      <td>0.095257</td>\n",
              "      <td>0.005985</td>\n",
              "      <td>0.311629</td>\n",
              "      <td>0.007692</td>\n",
              "      <td>0.158141</td>\n",
              "      <td>...</td>\n",
              "      <td>0.003144</td>\n",
              "      <td>0.475309</td>\n",
              "      <td>0.000228</td>\n",
              "      <td>0.055452</td>\n",
              "      <td>0.072265</td>\n",
              "      <td>0.003311</td>\n",
              "      <td>0.000005</td>\n",
              "      <td>0.568882</td>\n",
              "      <td>0.000067</td>\n",
              "      <td>0.000142</td>\n",
              "    </tr>\n",
              "  </tbody>\n",
              "</table>\n",
              "<p>5 rows × 24 columns</p>\n",
              "</div>"
            ],
            "text/plain": [
              "   p_Action  p_Adventure  p_Animation  p_Biography  p_Comedy   p_Crime  \\\n",
              "1  0.002020     0.017231     0.001221     0.017631  0.444855  0.024910   \n",
              "4  0.074310     0.001152     0.000002     0.110262  0.119233  0.673642   \n",
              "5  0.068393     0.002376     0.000004     0.155829  0.063375  0.813856   \n",
              "6  0.234592     0.054370     0.000299     0.029771  0.062385  0.142712   \n",
              "7  0.006671     0.006299     0.001089     0.012421  0.128389  0.095257   \n",
              "\n",
              "   p_Documentary   p_Drama  p_Family  p_Fantasy  ...  p_Musical  p_Mystery  \\\n",
              "1       0.000475  0.674402  0.029397   0.039253  ...   0.039316   0.050448   \n",
              "4       0.012976  0.918467  0.000272   0.000017  ...   0.000707   0.002079   \n",
              "5       0.021108  0.820229  0.000348   0.001653  ...   0.000665   0.269750   \n",
              "6       0.006910  0.696231  0.002048   0.010763  ...   0.000270   0.118655   \n",
              "7       0.005985  0.311629  0.007692   0.158141  ...   0.003144   0.475309   \n",
              "\n",
              "     p_News  p_Romance  p_Sci-Fi   p_Short   p_Sport  p_Thriller     p_War  \\\n",
              "1  0.000006   0.610990  0.001716  0.003583  0.000044    0.081761  0.002446   \n",
              "4  0.000009   0.034206  0.000005  0.001047  0.004314    0.118782  0.002760   \n",
              "5  0.000366   0.081714  0.001314  0.000656  0.000439    0.651030  0.001072   \n",
              "6  0.000269   0.080885  0.125186  0.000686  0.000320    0.579496  0.049827   \n",
              "7  0.000228   0.055452  0.072265  0.003311  0.000005    0.568882  0.000067   \n",
              "\n",
              "   p_Western  \n",
              "1   0.002098  \n",
              "4   0.018822  \n",
              "5   0.001252  \n",
              "6   0.001251  \n",
              "7   0.000142  \n",
              "\n",
              "[5 rows x 24 columns]"
            ]
          },
          "execution_count": 27,
          "metadata": {},
          "output_type": "execute_result"
        }
      ],
      "source": [
        "cols = ['p_Action', 'p_Adventure', 'p_Animation', 'p_Biography', 'p_Comedy', 'p_Crime', 'p_Documentary', 'p_Drama', 'p_Family',\n",
        "        'p_Fantasy', 'p_Film-Noir', 'p_History', 'p_Horror', 'p_Music', 'p_Musical', 'p_Mystery', 'p_News', 'p_Romance',\n",
        "        'p_Sci-Fi', 'p_Short', 'p_Sport', 'p_Thriller', 'p_War', 'p_Western']\n",
        "\n",
        "# Predicción del conjunto de test\n",
        "y_pred_test_genres = modelDep1.predict(X_embeddingsTest)\n",
        "cols = ['p_Action', 'p_Adventure', 'p_Animation', 'p_Biography', 'p_Comedy', 'p_Crime', 'p_Documentary', 'p_Drama', 'p_Family',\n",
        "        'p_Fantasy', 'p_Film-Noir', 'p_History', 'p_Horror', 'p_Music', 'p_Musical', 'p_Mystery', 'p_News', 'p_Romance',\n",
        "        'p_Sci-Fi', 'p_Short', 'p_Sport', 'p_Thriller', 'p_War', 'p_Western']\n",
        "\n",
        "res = pd.DataFrame(y_pred_test_genres, index=dataTesting.index, columns=cols)\n",
        "res.to_csv('.\\Competencia\\pred_genres_text_NN-Vect_Santiago4.csv', index_label='ID')\n",
        "res.head()"
      ]
    },
    {
      "cell_type": "markdown",
      "metadata": {
        "id": "sOau_UIe5-9f"
      },
      "source": [
        "# Test importación modelo prentrenado"
      ]
    },
    {
      "cell_type": "code",
      "execution_count": null,
      "metadata": {
        "id": "YF7neW-U5-9f",
        "outputId": "16a7f878-f8d8-4b77-c79f-27d671d7a26f"
      },
      "outputs": [
        {
          "name": "stderr",
          "output_type": "stream",
          "text": [
            "WARNING:absl:Compiled the loaded model, but the compiled metrics have yet to be built. `model.compile_metrics` will be empty until you train or evaluate the model.\n"
          ]
        }
      ],
      "source": [
        "from tensorflow.keras.models import load_model\n",
        "# Cargar el modelo guardado\n",
        "loaded_model = load_model('./Competencia/NN_genre.h5')  # Usa el enfoque que prefieras\n",
        "pred_prueba_disp =  loaded_model.predict(X_embeddingsTest)\n",
        "cols = ['p_Action', 'p_Adventure', 'p_Animation', 'p_Biography', 'p_Comedy', 'p_Crime', 'p_Documentary', 'p_Drama', 'p_Family',\n",
        "        'p_Fantasy', 'p_Film-Noir', 'p_History', 'p_Horror', 'p_Music', 'p_Musical', 'p_Mystery', 'p_News', 'p_Romance',\n",
        "        'p_Sci-Fi', 'p_Short', 'p_Sport', 'p_Thriller', 'p_War', 'p_Western']\n",
        "\n",
        "rueba_imp = pd.DataFrame(pred_prueba_disp, index=dataTesting.index, columns=cols)\n",
        "rueba_imp.head()"
      ]
    }
  ],
  "metadata": {
    "kernelspec": {
      "display_name": "base",
      "language": "python",
      "name": "python3"
    },
    "language_info": {
      "codemirror_mode": {
        "name": "ipython",
        "version": 3
      },
      "file_extension": ".py",
      "mimetype": "text/x-python",
      "name": "python",
      "nbconvert_exporter": "python",
      "pygments_lexer": "ipython3",
      "version": "3.11.4"
    },
    "colab": {
      "provenance": [],
      "include_colab_link": true
    }
  },
  "nbformat": 4,
  "nbformat_minor": 0
}